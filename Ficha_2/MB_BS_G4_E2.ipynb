{
 "cells": [
  {
   "cell_type": "markdown",
   "id": "626ccce2-a174-48a3-a94e-009dd5d8f2f4",
   "metadata": {},
   "source": [
    "# Ficha 2"
   ]
  },
  {
   "cell_type": "markdown",
   "id": "a7dcd0ae-b926-4840-8a7b-c2d7e0b50dbd",
   "metadata": {},
   "source": [
    "## Klebsiella pneumoniae subsp. pneumoniae MGH 78578"
   ]
  },
  {
   "cell_type": "markdown",
   "id": "2eea004b-bfac-4a2e-a073-2d1f287d99ac",
   "metadata": {},
   "source": [
    "### b)"
   ]
  },
  {
   "cell_type": "code",
   "execution_count": 1,
   "id": "68d16be0-b793-4cee-91e2-ca276fc69be4",
   "metadata": {},
   "outputs": [
    {
     "name": "stdout",
     "output_type": "stream",
     "text": [
      "Set parameter Username\n",
      "Academic license - for non-commercial use only - expires 2022-12-11\n"
     ]
    },
    {
     "data": {
      "text/html": [
       "<h3>Objective</h3><p>1.0 BIOMASS_ = 1.042637497977382</p><h4>Uptake</h4><table border=\"1\" class=\"dataframe\">\n",
       "  <thead>\n",
       "    <tr style=\"text-align: right;\">\n",
       "      <th>Metabolite</th>\n",
       "      <th>Reaction</th>\n",
       "      <th>Flux</th>\n",
       "      <th>C-Number</th>\n",
       "      <th>C-Flux</th>\n",
       "    </tr>\n",
       "  </thead>\n",
       "  <tbody>\n",
       "    <tr>\n",
       "      <td>glc__D_e</td>\n",
       "      <td>EX_glc__D_e</td>\n",
       "      <td>10.46</td>\n",
       "      <td>0</td>\n",
       "      <td>0.00%</td>\n",
       "    </tr>\n",
       "    <tr>\n",
       "      <td>nh4_e</td>\n",
       "      <td>EX_nh4_e</td>\n",
       "      <td>10.11</td>\n",
       "      <td>0</td>\n",
       "      <td>0.00%</td>\n",
       "    </tr>\n",
       "    <tr>\n",
       "      <td>o2_e</td>\n",
       "      <td>EX_o2_e</td>\n",
       "      <td>21.83</td>\n",
       "      <td>0</td>\n",
       "      <td>0.00%</td>\n",
       "    </tr>\n",
       "    <tr>\n",
       "      <td>pi_e</td>\n",
       "      <td>EX_pi_e</td>\n",
       "      <td>1.19</td>\n",
       "      <td>0</td>\n",
       "      <td>0.00%</td>\n",
       "    </tr>\n",
       "    <tr>\n",
       "      <td>so4_e</td>\n",
       "      <td>EX_so4_e</td>\n",
       "      <td>0.1804</td>\n",
       "      <td>0</td>\n",
       "      <td>0.00%</td>\n",
       "    </tr>\n",
       "    <tr>\n",
       "      <td>dna5mtc_c</td>\n",
       "      <td>SK_dna5mtc_c</td>\n",
       "      <td>0.09905</td>\n",
       "      <td>0</td>\n",
       "      <td>0.00%</td>\n",
       "    </tr>\n",
       "  </tbody>\n",
       "</table><h4>Secretion</h4><table border=\"1\" class=\"dataframe\">\n",
       "  <thead>\n",
       "    <tr style=\"text-align: right;\">\n",
       "      <th>Metabolite</th>\n",
       "      <th>Reaction</th>\n",
       "      <th>Flux</th>\n",
       "      <th>C-Number</th>\n",
       "      <th>C-Flux</th>\n",
       "    </tr>\n",
       "  </thead>\n",
       "  <tbody>\n",
       "    <tr>\n",
       "      <td>co2_e</td>\n",
       "      <td>EX_co2_e</td>\n",
       "      <td>-23</td>\n",
       "      <td>0</td>\n",
       "      <td>0.00%</td>\n",
       "    </tr>\n",
       "    <tr>\n",
       "      <td>h2o_e</td>\n",
       "      <td>EX_h2o_e</td>\n",
       "      <td>-48.26</td>\n",
       "      <td>0</td>\n",
       "      <td>0.00%</td>\n",
       "    </tr>\n",
       "    <tr>\n",
       "      <td>h_e</td>\n",
       "      <td>EX_h_e</td>\n",
       "      <td>-8.759</td>\n",
       "      <td>0</td>\n",
       "      <td>0.00%</td>\n",
       "    </tr>\n",
       "    <tr>\n",
       "      <td>dna_c</td>\n",
       "      <td>SK_dna_c</td>\n",
       "      <td>-0.09905</td>\n",
       "      <td>0</td>\n",
       "      <td>0.00%</td>\n",
       "    </tr>\n",
       "  </tbody>\n",
       "</table>"
      ],
      "text/plain": [
       "<cobra.summary.model_summary.ModelSummary at 0x25f53753970>"
      ]
     },
     "execution_count": 1,
     "metadata": {},
     "output_type": "execute_result"
    }
   ],
   "source": [
    "from cobra.io import read_sbml_model\n",
    "model = read_sbml_model(\"iYL1228.xml\")\n",
    "# Download do modelo .xml em http://bigg.ucsd.edu/models/iYL1228\n",
    "\n",
    "model.summary()"
   ]
  },
  {
   "cell_type": "code",
   "execution_count": 2,
   "id": "78d45fc9-c4fb-4a2f-93ce-d77e9e05652d",
   "metadata": {},
   "outputs": [],
   "source": [
    "#Importação do gurobi para ter permissões para a resolução do problema\n",
    "\n",
    "from mewpy.simulation import set_default_solver\n",
    "set_default_solver('gurobi')"
   ]
  },
  {
   "cell_type": "code",
   "execution_count": 3,
   "id": "9abdeacc-4cb2-4425-84c0-16c2e4fa9f3d",
   "metadata": {},
   "outputs": [
    {
     "name": "stdout",
     "output_type": "stream",
     "text": [
      "Metabolites: 1658\n",
      "Reactions: 2262\n",
      "Genes: 1229\n"
     ]
    }
   ],
   "source": [
    "# Implementação da simulação do modelo\n",
    "\n",
    "from mewpy.simulation import get_simulator\n",
    "simul1 = get_simulator(model)\n",
    "simul1.summary()"
   ]
  },
  {
   "cell_type": "code",
   "execution_count": 6,
   "id": "23937510-b442-48bd-8ed1-5aded83cccff",
   "metadata": {},
   "outputs": [
    {
     "name": "stdout",
     "output_type": "stream",
     "text": [
      "<bound method Simulation.essential_reactions of <mewpy.simulation.cobra.Simulation object at 0x0000025F632C4910>>\n"
     ]
    }
   ],
   "source": [
    "simul1.essential_reactions"
   ]
  },
  {
   "cell_type": "code",
   "execution_count": 7,
   "id": "e309ef80-1483-4ead-a6f4-f7254895380c",
   "metadata": {},
   "outputs": [
    {
     "data": {
      "text/plain": [
       "<bound method Simulation.essential_genes of <mewpy.simulation.cobra.Simulation object at 0x0000025F632C4910>>"
      ]
     },
     "execution_count": 7,
     "metadata": {},
     "output_type": "execute_result"
    }
   ],
   "source": [
    "simul1.essential_genes"
   ]
  },
  {
   "cell_type": "code",
   "execution_count": 8,
   "id": "dbd407b1-ed5b-4621-98e9-5f5abb2bd13a",
   "metadata": {},
   "outputs": [
    {
     "data": {
      "text/plain": [
       "{'BIOMASS_': 1.0}"
      ]
     },
     "execution_count": 8,
     "metadata": {},
     "output_type": "execute_result"
    }
   ],
   "source": [
    "simul1.objective"
   ]
  },
  {
   "cell_type": "code",
   "execution_count": 9,
   "id": "aa6a327c-7c44-4789-8fa0-69a88253f7a7",
   "metadata": {},
   "outputs": [
    {
     "name": "stdout",
     "output_type": "stream",
     "text": [
      "objective: 1.042637497977382\n",
      "Status: OPTIMAL\n",
      "Constraints: OrderedDict()\n",
      "Method:FBA\n"
     ]
    }
   ],
   "source": [
    "result1 = simul1.simulate(method='FBA')\n",
    "print(result1)"
   ]
  },
  {
   "cell_type": "code",
   "execution_count": 10,
   "id": "019d6361-35b6-4ecb-bb59-c4eac5f460f9",
   "metadata": {},
   "outputs": [
    {
     "data": {
      "text/html": [
       "<h3>Objective</h3><p>1.0 BIOMASS_ = 1.0426374979773763</p><h4>Uptake</h4><table border=\"1\" class=\"dataframe\">\n",
       "  <thead>\n",
       "    <tr style=\"text-align: right;\">\n",
       "      <th>Metabolite</th>\n",
       "      <th>Reaction</th>\n",
       "      <th>Flux</th>\n",
       "      <th>C-Number</th>\n",
       "      <th>C-Flux</th>\n",
       "    </tr>\n",
       "  </thead>\n",
       "  <tbody>\n",
       "    <tr>\n",
       "      <td>glc__D_e</td>\n",
       "      <td>EX_glc__D_e</td>\n",
       "      <td>10.46</td>\n",
       "      <td>0</td>\n",
       "      <td>0.00%</td>\n",
       "    </tr>\n",
       "    <tr>\n",
       "      <td>nh4_e</td>\n",
       "      <td>EX_nh4_e</td>\n",
       "      <td>10.11</td>\n",
       "      <td>0</td>\n",
       "      <td>0.00%</td>\n",
       "    </tr>\n",
       "    <tr>\n",
       "      <td>o2_e</td>\n",
       "      <td>EX_o2_e</td>\n",
       "      <td>21.83</td>\n",
       "      <td>0</td>\n",
       "      <td>0.00%</td>\n",
       "    </tr>\n",
       "    <tr>\n",
       "      <td>pi_e</td>\n",
       "      <td>EX_pi_e</td>\n",
       "      <td>1.19</td>\n",
       "      <td>0</td>\n",
       "      <td>0.00%</td>\n",
       "    </tr>\n",
       "    <tr>\n",
       "      <td>so4_e</td>\n",
       "      <td>EX_so4_e</td>\n",
       "      <td>0.1804</td>\n",
       "      <td>0</td>\n",
       "      <td>0.00%</td>\n",
       "    </tr>\n",
       "    <tr>\n",
       "      <td>dna5mtc_c</td>\n",
       "      <td>SK_dna5mtc_c</td>\n",
       "      <td>0.09905</td>\n",
       "      <td>0</td>\n",
       "      <td>0.00%</td>\n",
       "    </tr>\n",
       "  </tbody>\n",
       "</table><h4>Secretion</h4><table border=\"1\" class=\"dataframe\">\n",
       "  <thead>\n",
       "    <tr style=\"text-align: right;\">\n",
       "      <th>Metabolite</th>\n",
       "      <th>Reaction</th>\n",
       "      <th>Flux</th>\n",
       "      <th>C-Number</th>\n",
       "      <th>C-Flux</th>\n",
       "    </tr>\n",
       "  </thead>\n",
       "  <tbody>\n",
       "    <tr>\n",
       "      <td>co2_e</td>\n",
       "      <td>EX_co2_e</td>\n",
       "      <td>-23</td>\n",
       "      <td>0</td>\n",
       "      <td>0.00%</td>\n",
       "    </tr>\n",
       "    <tr>\n",
       "      <td>h2o_e</td>\n",
       "      <td>EX_h2o_e</td>\n",
       "      <td>-48.26</td>\n",
       "      <td>0</td>\n",
       "      <td>0.00%</td>\n",
       "    </tr>\n",
       "    <tr>\n",
       "      <td>h_e</td>\n",
       "      <td>EX_h_e</td>\n",
       "      <td>-8.759</td>\n",
       "      <td>0</td>\n",
       "      <td>0.00%</td>\n",
       "    </tr>\n",
       "    <tr>\n",
       "      <td>dna_c</td>\n",
       "      <td>SK_dna_c</td>\n",
       "      <td>-0.09905</td>\n",
       "      <td>0</td>\n",
       "      <td>0.00%</td>\n",
       "    </tr>\n",
       "  </tbody>\n",
       "</table>"
      ],
      "text/plain": [
       "<cobra.summary.model_summary.ModelSummary at 0x25f6330f820>"
      ]
     },
     "execution_count": 10,
     "metadata": {},
     "output_type": "execute_result"
    }
   ],
   "source": [
    "# Download do .json em http://bigg.ucsd.edu/models/iYL1228\n",
    "# Importação e leitura do modelo\n",
    "\n",
    "import cobra\n",
    "model2 = cobra.io.load_json_model('iYL1228.json')\n",
    "#model = read_sbml_model(\"iYL1228.xml\")\n",
    "\n",
    "envcond2 = {'EX_glc__D_e': (-10, 1000), 'EX_pi_e': (-10, 1000), 'EX_o2_e':(-10, 1000)}\n",
    "simul2 = get_simulator(model2, envcond = envcond2)\n",
    "\n",
    "model2.summary()"
   ]
  },
  {
   "cell_type": "code",
   "execution_count": 11,
   "id": "f91fe3a0-5807-461c-9285-aa3562f2cde4",
   "metadata": {},
   "outputs": [
    {
     "name": "stdout",
     "output_type": "stream",
     "text": [
      "objective: 0.6594610407796981\n",
      "Status: OPTIMAL\n",
      "Constraints: OrderedDict([('EX_glc__D_e', (-10, 1000)), ('EX_pi_e', (-10, 1000)), ('EX_o2_e', (-10, 1000))])\n",
      "Method:FBA\n"
     ]
    }
   ],
   "source": [
    "result2 = simul2.simulate(method = 'FBA')\n",
    "print(result2)"
   ]
  },
  {
   "cell_type": "markdown",
   "id": "a0f9f590-c8ca-4050-8b0a-5f50a74163b0",
   "metadata": {},
   "source": [
    "A taxa de crescimento específica foi computada usando o método FBA.\n",
    "\n",
    "Usámos o modelo com as condições default e o modelo com condições ambientais alteradas.\n",
    "\n",
    "Observámos que a taxa de crescimento específica do modelo default foi de aproximadamente 1,042 mmol/gDW/h e, no modelo com condições ambientais alteradas, o valor foi aproximadamente o mesmo.\n",
    "\n",
    "Os produtos excretados, tanto nas condições default como nas condições alteradas, são: dióxido de carbono (CO2), água (H2O), hidrogénio (H) e SK_DNA_C."
   ]
  },
  {
   "cell_type": "markdown",
   "id": "c19c55e2-295a-491f-924e-3c557aed1de7",
   "metadata": {},
   "source": [
    "### c)"
   ]
  },
  {
   "cell_type": "code",
   "execution_count": 12,
   "id": "1c5c701e-717b-41cd-b9a4-af3ae780153f",
   "metadata": {},
   "outputs": [],
   "source": [
    "import cobra\n",
    "model = cobra.io.load_json_model('iYL1228.json')\n",
    "#print(model.summary())"
   ]
  },
  {
   "cell_type": "code",
   "execution_count": 13,
   "id": "b7c66cbc-0f2b-43c8-bd9b-486fd5463fd6",
   "metadata": {},
   "outputs": [],
   "source": [
    "from mewpy.simulation import get_simulator\n",
    "simul = get_simulator(model)\n",
    "\n",
    "envcond = {'EX_glc__D_e': (-100, 1000), 'EX_o2_e':(-100, 1000)}\n",
    "simul2 = get_simulator(model, envcond = envcond)\n",
    "result2 = simul2.simulate(method = 'FBA')"
   ]
  },
  {
   "cell_type": "code",
   "execution_count": 14,
   "id": "dfb9202e-a042-4812-bca1-699aa3218ded",
   "metadata": {},
   "outputs": [
    {
     "name": "stderr",
     "output_type": "stream",
     "text": [
      "  0%|          | 0/2262 [00:00<?, ?it/s]"
     ]
    },
    {
     "name": "stdout",
     "output_type": "stream",
     "text": [
      "Essential Reactions:\n"
     ]
    },
    {
     "name": "stderr",
     "output_type": "stream",
     "text": [
      " 95%|█████████▍| 2140/2262 [04:15<00:15,  7.77it/s]C:\\Users\\Ana\\anaconda3\\lib\\site-packages\\cobra\\util\\solver.py:554: UserWarning: Solver status is 'infeasible'.\n",
      "  warn(f\"Solver status is '{status}'.\", UserWarning)\n",
      "100%|██████████| 2262/2262 [04:29<00:00,  8.39it/s]\n"
     ]
    },
    {
     "data": {
      "text/plain": [
       "\"['3OAR80', '3OAS100', '3OAS121', '3OAS140', '3OAS141', '3OAS161', '3OAS181', '3OAS60', '3OAS80', '3HAD100', '3HAD121', '3HAD141', '3HAD161', '3HAD181', '3HAD40', '3HAD60', '3HAD80', 'A5PISO', 'ACGK', 'ACGS', '3OAR100', '3OAR121', '3OAR140', 'ACLS', '3OAR141', '3OAR161', '3OAR181', '3OAR40', '3OAR60', 'ADSK', 'ACODA', 'ADSL1r', 'ADSL2r', 'ADSS', 'ACOTA', 'AGMHE', 'ACCOAC', 'AGPAT160', 'AGPAT161', 'AGPAT181', 'AGPR', 'ASAD', 'AICART', 'AIRC2', 'AIRC3', 'ALAALAr', 'ASPCT', 'ASPK', 'ALAR', 'ALATA_L', 'ASPTA', 'ATPPRT', 'BPNT', 'CBPS', 'CLPNS181pp', 'CHORM', 'CHORS', 'CLPNS160pp', 'CLPNS161pp', 'CTPS2', 'ANPRT', 'CYSTL', 'ANS', 'DDPA', 'DHAD1', 'DHAD2', 'DHDPRy', 'DHDPS', 'DHFR', 'DAPDC', 'DHORTS', 'DAPE', 'DASYN160', 'DASYN161', 'DHQS', 'DHQTi', 'DASYN181', 'ARGSL', 'ARGSS', 'DTMPK', 'G1PACT', 'G1PTT', 'G3PAT160', 'G3PAT161', 'G3PAT181', 'GALUi', 'G3PD2', 'GF6PTA', 'G5SADs', 'GK1', 'GLA', 'GLNS', 'GLUPRT', 'GLUR', 'GMHEPAT', 'GMHEPK', 'GMHEPPA', 'GMPS2', 'HCO3E', 'IG3PS', 'IGPDH', 'IGPS', 'ILETA', 'IMPC', 'IMPD', 'HISTD', 'HISTP', 'IPMD', 'IPPMIa', 'IPPMIb', 'IPPS', 'HSDy', 'HSK', 'HSST', 'HSTPT', 'KARA1', 'KARA2', 'KDOPP', 'KDOPS', 'MAN6PI', 'MCOATA', 'MCTP1App', 'LEUTAi', 'NDPK2', 'MPTG', 'NDPK4', 'NH4tex', 'NH4tpp', 'LPADSS', 'OCBT', 'OMCDC', 'OMPDC', 'ORPT', 'P5CR', 'PAPPT3', 'PE160abcpp', 'PE161abcpp', 'PE181abcpp', 'PGSA160', 'PGSA161', 'PGSA181', 'PHETA1', 'PGAMT', 'PItex', 'PMANM', 'PGMT', 'PSD160', 'PSD161', 'PSD181', 'PSSA160', 'PSSA161', 'PSSA181', 'S7PI', 'SADT2', 'SDPDS', 'SDPTA', 'SHK3Dr', 'SHKK', 'PPND', 'SHSL1', 'PPNDH', 'SO4tex', 'TDPDRE', 'TDPDRR', 'TDPGDH', 'TDSK', 'THDPS', 'THRS', 'SULR', 'SULabcpp', 'T2DECAI', 'PRAGSr', 'TMDS', 'PRAIS', 'PRAIi', 'PRAMPC', 'PRASCSi', 'UDPGD', 'UGMDDS', 'PRATPP', 'UHGADA', 'TYRTA', 'PRFGS', 'UMPK', 'U23GAAT', 'UAAGDS', 'PRMICI', 'UAGAAT', 'UAGCVT', 'UAGDP', 'UAGPT3', 'UAMAGS', 'UAMAS', 'UAPGR', 'UDCPDP', 'UDPG4E', 'USHD', 'PSCVT', 'EX_pi_e', 'EX_glc__D_e', 'EX_so4_e', 'BIOMASS_', 'EX_nh4_e']\""
      ]
     },
     "execution_count": 14,
     "metadata": {},
     "output_type": "execute_result"
    }
   ],
   "source": [
    "print('Essential Reactions:')\n",
    "str(simul.essential_reactions())"
   ]
  },
  {
   "cell_type": "code",
   "execution_count": 15,
   "id": "f8102db2-8b9d-4685-8fdd-26e03718f12c",
   "metadata": {},
   "outputs": [
    {
     "name": "stderr",
     "output_type": "stream",
     "text": [
      "  0%|          | 0/1229 [00:00<?, ?it/s]"
     ]
    },
    {
     "name": "stdout",
     "output_type": "stream",
     "text": [
      "Essential Genes:\n"
     ]
    },
    {
     "name": "stderr",
     "output_type": "stream",
     "text": [
      "100%|██████████| 1229/1229 [03:13<00:00,  6.34it/s]\n"
     ]
    },
    {
     "data": {
      "text/plain": [
       "\"['KPN_00004', 'KPN_01092', 'KPN_03799', 'KPN_SPONT', 'KPN_02706', 'KPN_03664', 'KPN_00198', 'KPN_03665', 'KPN_04248', 'KPN_00983', 'KPN_03226', 'KPN_01091', 'KPN_01093', 'KPN_04657', 'KPN_04656', 'KPN_02713', 'KPN_02475', 'KPN_00039', 'KPN_02812', 'KPN_00974', 'KPN_01074', 'KPN_03112', 'KPN_01139', 'KPN_03760', 'KPN_04576', 'KPN_00073', 'KPN_03963', 'KPN_03436', 'KPN_04247', 'KPN_03453', 'KPN_04388', 'KPN_04273', 'KPN_00477', 'KPN_00478', 'KPN_02922', 'KPN_02920', 'KPN_02719', 'KPN_01096', 'KPN_00941', 'KPN_01284', 'KPN_03124', 'KPN_01256', 'KPN_01257', 'KPN_03118', 'KPN_03119', 'KPN_04134', 'KPN_02492', 'KPN_03252', 'KPN_04308', 'KPN_00188', 'KPN_02702', 'KPN_03996', 'KPN_04256', 'KPN_04270', 'KPN_01515', 'KPN_04135', 'KPN_01090', 'KPN_00214', 'KPN_02833', 'KPN_04429', 'KPN_03952', 'KPN_02202', 'KPN_02476', 'KPN_02478', 'KPN_02410', 'KPN_00003', 'KPN_04394', 'KPN_02477', 'KPN_02481', 'KPN_02479', 'KPN_01255', 'KPN_04269', 'KPN_02834', 'KPN_00079', 'KPN_00078', 'KPN_00077', 'KPN_03608', 'KPN_02230', 'KPN_00414', 'KPN_04387', 'KPN_02824', 'KPN_02482', 'KPN_02810', 'KPN_02882', 'KPN_02480', 'KPN_00936', 'KPN_04557', 'KPN_02908', 'KPN_00195', 'KPN_04659', 'KPN_03236', 'KPN_01277', 'KPN_03983', 'KPN_01253', 'KPN_01254', 'KPN_00192', 'KPN_00329', 'KPN_00089', 'KPN_00194', 'KPN_00091', 'KPN_03599', 'KPN_00094', 'KPN_00092', 'KPN_03117', 'KPN_00095', 'KPN_04350', 'KPN_00773', 'KPN_00236', 'KPN_02493', 'KPN_03113', 'KPN_03114', 'KPN_00090', 'KPN_00100', 'KPN_02805', 'KPN_03586', 'KPN_00480', 'KPN_04233', 'KPN_00942', 'KPN_00179']\""
      ]
     },
     "execution_count": 15,
     "metadata": {},
     "output_type": "execute_result"
    }
   ],
   "source": [
    "print('Essential Genes:')\n",
    "str(simul.essential_genes())"
   ]
  }
 ],
 "metadata": {
  "kernelspec": {
   "display_name": "Python 3",
   "language": "python",
   "name": "python3"
  },
  "language_info": {
   "codemirror_mode": {
    "name": "ipython",
    "version": 3
   },
   "file_extension": ".py",
   "mimetype": "text/x-python",
   "name": "python",
   "nbconvert_exporter": "python",
   "pygments_lexer": "ipython3",
   "version": "3.8.8"
  }
 },
 "nbformat": 4,
 "nbformat_minor": 5
}

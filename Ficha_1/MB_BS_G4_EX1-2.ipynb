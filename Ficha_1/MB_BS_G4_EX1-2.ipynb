{
 "cells": [
  {
   "cell_type": "markdown",
   "id": "5931d379-02ef-4b31-a75d-ec75b1c883c8",
   "metadata": {},
   "source": [
    "# Grupo 4"
   ]
  },
  {
   "cell_type": "markdown",
   "id": "ea4701d3-96b9-4a5f-a524-541f5f118f83",
   "metadata": {},
   "source": [
    "## Exercise (part 1) – implementation of FBA problem"
   ]
  },
  {
   "cell_type": "markdown",
   "id": "e50d95a2-ce1c-46c0-a199-f200590f09be",
   "metadata": {},
   "source": [
    "### Escherichia coli str. K-12 substr. MG1655"
   ]
  },
  {
   "cell_type": "markdown",
   "id": "1a73aa03-b100-4ca1-8396-b5b58e6d8cc9",
   "metadata": {},
   "source": [
    "#### Exercício 1"
   ]
  },
  {
   "cell_type": "code",
   "execution_count": 1,
   "id": "42d9dd28-91a7-4e5f-893b-025ba1e7eac7",
   "metadata": {},
   "outputs": [
    {
     "name": "stdout",
     "output_type": "stream",
     "text": [
      "Set parameter Username\n",
      "Academic license - for non-commercial use only - expires 2022-12-11\n"
     ]
    }
   ],
   "source": [
    "#Importação das bibliotecas necessárias para a resolução\n",
    "import escher\n",
    "from reframed.io.sbml import load_cbmodel\n",
    "from mewpy.simulation.environment import Environment\n",
    "from mewpy.simulation import get_simulator\n",
    "from cobra.io import read_sbml_model\n",
    "\n",
    "#Importação do gurobi para ter permissões para a resolução do problema\n",
    "from mewpy.simulation import set_default_solver\n",
    "set_default_solver('gurobi')"
   ]
  },
  {
   "cell_type": "code",
   "execution_count": 2,
   "id": "afdb0ba6-e20e-4add-b5a8-3b186561d610",
   "metadata": {},
   "outputs": [],
   "source": [
    "#Importar o nosso modelo\n",
    "model = read_sbml_model(\"iML1515.xml\")"
   ]
  },
  {
   "cell_type": "code",
   "execution_count": 3,
   "id": "a8526e64-ae6c-4623-8f68-673c68cf2809",
   "metadata": {},
   "outputs": [],
   "source": [
    "#Implementação do FBA\n",
    "simul = get_simulator(model)\n",
    "result = simul.simulate(method='FBA')"
   ]
  },
  {
   "cell_type": "code",
   "execution_count": 4,
   "id": "75307b3e-ec0c-4265-a70f-ff07e3f19f27",
   "metadata": {},
   "outputs": [
    {
     "data": {
      "text/plain": [
       "EX_pi_e\t-10.0\tinf\n",
       "EX_co2_e\t-10.0\tinf\n",
       "EX_fe3_e\t-10.0\tinf\n",
       "EX_h_e\t-10.0\tinf\n",
       "EX_mn2_e\t-10.0\tinf\n",
       "EX_fe2_e\t-10.0\tinf\n",
       "EX_glc__D_e\t-10.0\tinf\n",
       "EX_zn2_e\t-10.0\tinf\n",
       "EX_mg2_e\t-10.0\tinf\n",
       "EX_ca2_e\t-10.0\tinf\n",
       "EX_ni2_e\t-10.0\tinf\n",
       "EX_cu2_e\t-10.0\tinf\n",
       "EX_sel_e\t-10.0\tinf\n",
       "EX_cobalt2_e\t-10.0\tinf\n",
       "EX_h2o_e\t-10.0\tinf\n",
       "EX_mobd_e\t-10.0\tinf\n",
       "EX_so4_e\t-10.0\tinf\n",
       "EX_nh4_e\t-10.0\tinf\n",
       "EX_k_e\t-10.0\tinf\n",
       "EX_na1_e\t-10.0\tinf\n",
       "EX_cl_e\t-10.0\tinf\n",
       "EX_o2_e\t-10.0\tinf\n",
       "EX_tungs_e\t-10.0\tinf\n",
       "EX_slnt_e\t-10.0\tinf"
      ]
     },
     "execution_count": 4,
     "metadata": {},
     "output_type": "execute_result"
    }
   ],
   "source": [
    "#Verificar as condições ambiente do nosso modelo\n",
    "medium = Environment.from_model(simul).get_compounds()\n",
    "env = Environment.from_compounds(medium)\n",
    "env"
   ]
  },
  {
   "cell_type": "code",
   "execution_count": 5,
   "id": "1106b4e6-cb02-4319-a814-bacdc208bf63",
   "metadata": {},
   "outputs": [],
   "source": [
    "#Nas nossas condições ambientais, o modelo consome glucose e oxigénio, apresentando\n",
    "#taxas negativas."
   ]
  },
  {
   "cell_type": "code",
   "execution_count": 6,
   "id": "acfb2477-34ed-4fe8-b443-23932fe2da73",
   "metadata": {},
   "outputs": [],
   "source": [
    "#Definir as condições ambientais\n",
    "envcond = {'EX_glc__D_e': (-15.0, 100000.00),\n",
    "           'EX_o2_e':(-20, 1000.0)}"
   ]
  },
  {
   "cell_type": "code",
   "execution_count": 7,
   "id": "d33aa076-e89d-4c2b-bae9-5dd14c699fbd",
   "metadata": {},
   "outputs": [],
   "source": [
    "#Implementação do FBA segundo as condições ambientais a estudar\n",
    "simul_ensaio = get_simulator(model, envcond=envcond)\n",
    "resultado = simul.simulate(method='FBA')"
   ]
  },
  {
   "cell_type": "code",
   "execution_count": 8,
   "id": "fb8f9083-ccca-4f31-8a4c-a451ba7dc5b8",
   "metadata": {},
   "outputs": [
    {
     "name": "stdout",
     "output_type": "stream",
     "text": [
      "Valor do fluxo wild-type do Formato:  0.0\n"
     ]
    }
   ],
   "source": [
    "#Valores dos fluxos wild-type do composto em estudo\n",
    "print('Valor do fluxo wild-type do Formato: ', resultado.fluxes['EX_for_e'])"
   ]
  },
  {
   "cell_type": "code",
   "execution_count": 9,
   "id": "33829717-8131-483f-ab94-d3cfcef21232",
   "metadata": {},
   "outputs": [],
   "source": [
    "#Uma vez que o valor do fluxo wild-type do formato é 0 podemos concluir que,\n",
    "#condições estudadas, o nosso modelo não produz nem consome formato."
   ]
  },
  {
   "cell_type": "markdown",
   "id": "b239ea4d-df3b-4a75-8f75-4aed6e983c0a",
   "metadata": {},
   "source": [
    "#### Exercício 2"
   ]
  },
  {
   "cell_type": "code",
   "execution_count": 10,
   "id": "7fd7d439-102e-4528-a30f-9f7d425e4eb2",
   "metadata": {},
   "outputs": [
    {
     "name": "stdout",
     "output_type": "stream",
     "text": [
      "  Reaction ID  Minimum    Maximum\n",
      "0    EX_for_e      0.0  28.295717\n"
     ]
    }
   ],
   "source": [
    "#Calcular as capacidades máximas de produção do composto segundo as condições definidas\n",
    "print(simul_ensaio.FVA(reactions=['EX_for_e'], format=('df')))"
   ]
  },
  {
   "cell_type": "code",
   "execution_count": 11,
   "id": "17ca7e69-0887-46f9-a17f-4852ea968161",
   "metadata": {},
   "outputs": [],
   "source": [
    "#A capacidade máxima de produção do nosso composto, segundo as condições em estudo\n",
    "#é de 28,3."
   ]
  },
  {
   "cell_type": "code",
   "execution_count": 13,
   "id": "ef576a08-6b1f-436a-ba3b-0af72e2fa2b5",
   "metadata": {},
   "outputs": [],
   "source": [
    "#Defenir os nossos alvos\n",
    "PRODUCT_ID = 'EX_for_e'\n",
    "BIOMASS_ID = 'BIOMASS_Ec_iML1515_core_75p37M'\n",
    "\n",
    "#Importação da biblioteca para a otimização\n",
    "from mewpy.optimization.evaluation import  BPCY, TargetFlux, WYIELD, BPCY_FVA\n",
    "\n",
    "#Definir as funções objetivo para a otimização\n",
    "#Utilização da função WYIELD\n",
    "funcao_1 = BPCY(BIOMASS_ID, PRODUCT_ID, method=\"pFBA\")\n",
    "funcao_2 = WYIELD(BIOMASS_ID, PRODUCT_ID)"
   ]
  },
  {
   "cell_type": "code",
   "execution_count": 15,
   "id": "19c706fc-0d68-47d4-a861-81b0a1795056",
   "metadata": {},
   "outputs": [
    {
     "data": {
      "text/html": [
       "<div>\n",
       "<style scoped>\n",
       "    .dataframe tbody tr th:only-of-type {\n",
       "        vertical-align: middle;\n",
       "    }\n",
       "\n",
       "    .dataframe tbody tr th {\n",
       "        vertical-align: top;\n",
       "    }\n",
       "\n",
       "    .dataframe thead th {\n",
       "        text-align: right;\n",
       "    }\n",
       "</style>\n",
       "<table border=\"1\" class=\"dataframe\">\n",
       "  <thead>\n",
       "    <tr style=\"text-align: right;\">\n",
       "      <th></th>\n",
       "      <th>Reaction ID</th>\n",
       "      <th>Flux rate</th>\n",
       "    </tr>\n",
       "  </thead>\n",
       "  <tbody>\n",
       "    <tr>\n",
       "      <th>0</th>\n",
       "      <td>EX_for_e</td>\n",
       "      <td>0.000000</td>\n",
       "    </tr>\n",
       "    <tr>\n",
       "      <th>1</th>\n",
       "      <td>BIOMASS_Ec_iML1515_core_75p37M</td>\n",
       "      <td>0.876997</td>\n",
       "    </tr>\n",
       "    <tr>\n",
       "      <th>2</th>\n",
       "      <td>BIOMASS_Ec_iML1515_WT_75p37M</td>\n",
       "      <td>0.000000</td>\n",
       "    </tr>\n",
       "  </tbody>\n",
       "</table>\n",
       "</div>"
      ],
      "text/plain": [
       "                      Reaction ID  Flux rate\n",
       "0                        EX_for_e   0.000000\n",
       "1  BIOMASS_Ec_iML1515_core_75p37M   0.876997\n",
       "2    BIOMASS_Ec_iML1515_WT_75p37M   0.000000"
      ]
     },
     "execution_count": 15,
     "metadata": {},
     "output_type": "execute_result"
    }
   ],
   "source": [
    "resultado.find('for|BIOMASS')"
   ]
  }
 ],
 "metadata": {
  "kernelspec": {
   "display_name": "Python 3",
   "language": "python",
   "name": "python3"
  },
  "language_info": {
   "codemirror_mode": {
    "name": "ipython",
    "version": 3
   },
   "file_extension": ".py",
   "mimetype": "text/x-python",
   "name": "python",
   "nbconvert_exporter": "python",
   "pygments_lexer": "ipython3",
   "version": "3.8.8"
  }
 },
 "nbformat": 4,
 "nbformat_minor": 5
}
